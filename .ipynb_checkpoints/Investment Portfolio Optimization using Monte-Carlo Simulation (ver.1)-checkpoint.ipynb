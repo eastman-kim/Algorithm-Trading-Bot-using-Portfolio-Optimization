{
 "cells": [
  {
   "cell_type": "markdown",
   "metadata": {},
   "source": [
    "_Please skip and go to the coding part if you already are aware of Modern Portfolio Theory_ <br>\n",
    "Source: FRM exam PREP Schweser Note - Foundations of Risk Management, investopedia, blog \"Python For Finance\" "
   ]
  },
  {
   "cell_type": "markdown",
   "metadata": {},
   "source": [
    "<img src=\"res.png\" alt=\"outpt\" width=\"2000\"/>"
   ]
  },
  {
   "cell_type": "markdown",
   "metadata": {},
   "source": [
    "### `Modern Portfolio Theroy (MPT)`\n",
    "\n",
    "_Modern portfolio theory (MPT)_ is a theory on how risk-averse investors can construct portfolios to **maximize expected return based on a given level of market risk.** "
   ]
  },
  {
   "cell_type": "markdown",
   "metadata": {},
   "source": [
    "**1) Expected Return and Volatility of a Two-Asset Portfolio** <br>\n",
    "The expected return on a portfolio is a weighted average of the expected returns on the individual assets taht are included in the portfolio. For example, for a two-asset portfolio:\n",
    "\n",
    "$$ E(R_p) = w_1E(R_1) + w_2E(R_2) $$ <br>\n",
    "where: <br> \n",
    "$E(R_p)$ = expected return on Portfolio P  <br>\n",
    "$w_i$    = weight of the portfolio allocated to Asset i  <br>\n",
    "$E(R_i)$ = expected retrun on Asset i  <br>\n",
    "\n",
    "$$ \\sigma_p^2 = w_1^2\\sigma_1^2 + w_2^2\\sigma_2^2 + 2w_1w_2Cov_{1,2}  $$ <br>\n",
    "where: <br> \n",
    "$\\sigma^2_p$ = variance of the returns for Portfolio P  <br>\n",
    "$\\sigma^2_1$ = variance of the returns for Asset 1  <br>\n",
    "$\\sigma^2_2$ = variance of the returns for Asset 2  <br>\n",
    "$w_i$    = weight of the portfolio allocated to Asset i  <br>\n",
    "$Cov_{1,2}$ = covariance between the returns of the two assets  <br>\n",
    "<br>\n",
    "<br>\n",
    "<center> Effects of Correlation on Portfolio Risk (Portfolio Possbility Curve) </center>\n",
    "\n",
    "![alt text](corr-eff.gif \"Effects of Correlation on Portfolio Risk\")\n",
    "\n",
    "where: <br> \n",
    "$\\rho=-1$ : Perfect negative correlation, two linear equations, zero volatility  <br>\n",
    "$\\rho=0$  : Zero correlation, a non-linear equation, impossible to construct a portfolio with zero volatility  <br>\n",
    "$\\rho=1$  : Perfect positive correlation, a straight line, indicating no diversification  <br>\n",
    "\n",
    "As we can see, it is able to pursue the higher expected return with the minimum risk by the effect of the diversification.\n",
    "\n",
    "\n"
   ]
  },
  {
   "cell_type": "markdown",
   "metadata": {},
   "source": [
    "**2) Expected Return and Volatility of a Multi-Assets Portfolio** <br>\n",
    "Plotting all risky assets and potential combinations of risky assets will result in a graph below:\n",
    "\n",
    "![alt text](ef.jpg \"Efficient Frontier\")\n",
    "<div style=\"text-align: center\"> source: wikipedia  </div> \n",
    "\n",
    "**Efficient portfolios** are portfolios that have <br>\n",
    "- minumum risk of all portfolios with the same expected return and \n",
    "- maximum expected return for all portfolios with the same risk.\n",
    "\n",
    "The **efficient frontier** is a plot of the expected return and risk combinations of all efficient portfolios, all of which lie along the upper-left portion of the possible portfolios. \n",
    "\n"
   ]
  },
  {
   "cell_type": "markdown",
   "metadata": {},
   "source": [
    "====================================================================================================================== <br>\n",
    "\n",
    "Today, I am going to build an efficient portfolio with optimized weights between assets with the highest Sharpe ratio using Monte-Carlo simulation. If I have chance, I will continue delve into CML and calculating the beta in the The Capital Asset Pricing Model(CAPM) another time. \n",
    "\n",
    "With Monte-Carlo approach, we can discover the optimal weights by simply creating a large number of random portfolios, all with varying combinations of stock weights. Then it leads us to calculate the best Sharpe ratio from each cases.\n",
    "\n",
    "My portfolio consists of five stocks and will be running 100K simulations to obtain the best result. All results will be plotted and the highest Sharpe ratio be highlighted. Let's get it!"
   ]
  },
  {
   "cell_type": "markdown",
   "metadata": {},
   "source": [
    "## 1. EDA"
   ]
  },
  {
   "cell_type": "code",
   "execution_count": null,
   "metadata": {},
   "outputs": [],
   "source": [
    "# Environment Setting\n",
    "from pandas_datareader import data, wb\n",
    "import numpy as np\n",
    "import pandas as pd\n",
    "import matplotlib.pyplot as plt\n",
    "import seaborn as sns\n",
    "import datetime\n",
    "from scipy import stats\n",
    "%matplotlib inline\n",
    "\n",
    "# Set start and end date\n",
    "start = datetime.datetime(2015,1,1)\n",
    "end = datetime.datetime(2019,12,31)"
   ]
  },
  {
   "cell_type": "markdown",
   "metadata": {},
   "source": [
    "Stocks chosen:\n",
    "- Apple\n",
    "- Tesla\n",
    "- American Airlines\n",
    "- Walmart\n",
    "- Microsoft\n",
    "- Wells Fargo\n",
    "- AMD\n",
    "- Johnson & Johnson\n",
    "- Coca Cola\n",
    "- Netflix"
   ]
  },
  {
   "cell_type": "code",
   "execution_count": null,
   "metadata": {},
   "outputs": [],
   "source": [
    "#Download stock data\n",
    "stocks = ['AAL','AMD','AAPL','JNJ','KO','MSFT','NFLX','TSLA','WFC','WMT']\n",
    "df = pd.DataFrame([data.DataReader(stock,\"yahoo\",start)['Adj Close'] for stock in stocks]).T\n",
    "df.columns = stocks"
   ]
  },
  {
   "cell_type": "code",
   "execution_count": null,
   "metadata": {},
   "outputs": [],
   "source": [
    "#descriptive stats\n",
    "df.describe()"
   ]
  },
  {
   "cell_type": "code",
   "execution_count": null,
   "metadata": {},
   "outputs": [],
   "source": [
    "#5 years of Adjusted Close price line graph\n",
    "df.plot(legend=True, figsize=(12,6))"
   ]
  },
  {
   "cell_type": "code",
   "execution_count": null,
   "metadata": {},
   "outputs": [],
   "source": [
    "#correlation between two assets: Apple and Microsoft (positive correlation)\n",
    "sns.set_style(\"whitegrid\")\n",
    "sns.jointplot(df['MSFT'].pct_change(),df['AAPL'].pct_change(),kind='scatter',color='green', alpha=0.5)"
   ]
  },
  {
   "cell_type": "code",
   "execution_count": null,
   "metadata": {},
   "outputs": [],
   "source": [
    "#correlations \n",
    "#: not strong but somewhat correlated between IT assets\n",
    "pct_change_df = df.pct_change()\n",
    "df_corr= pct_change_df.dropna().corr()\n",
    "sns.heatmap(df_corr, annot=True, fmt='.2f')\n",
    "plt.show()\n",
    "sns.pairplot(pct_change_df.dropna())"
   ]
  },
  {
   "cell_type": "markdown",
   "metadata": {},
   "source": [
    "## 2. Return and Volatility in Varing Weights"
   ]
  },
  {
   "cell_type": "markdown",
   "metadata": {},
   "source": [
    "#### (1) Individual Asset's Annual Return and Volatility \n"
   ]
  },
  {
   "cell_type": "code",
   "execution_count": null,
   "metadata": {},
   "outputs": [],
   "source": [
    "for stock in stocks:\n",
    "    returns = df[stock].pct_change()\n",
    "    mean_return = returns.mean()\n",
    "    return_stdev = returns.std()\n",
    "    annual_return = round(mean_return * 252,2)\n",
    "    annual_stdev = round(return_stdev * np.sqrt(252),2)\n",
    "    print(stock)\n",
    "    print ('-Annual mean return:', annual_return)\n",
    "    print('-Annual volatility:', annual_stdev)"
   ]
  },
  {
   "cell_type": "markdown",
   "metadata": {},
   "source": [
    "#### (2) Portfolio's Annual Return and Volatility "
   ]
  },
  {
   "cell_type": "code",
   "execution_count": null,
   "metadata": {},
   "outputs": [],
   "source": [
    "#daily returns\n",
    "rets = df.pct_change()\n",
    "\n",
    "#mean and covariance\n",
    "mean_daily_rets = rets.mean()\n",
    "cov_matrix = rets.cov()\n",
    "\n",
    "#weights - 10% each\n",
    "weights = np.array([0.1,0.1,0.1,0.1,0.1,0.1,0.1,0.1,0.1,0.1]) \n",
    "\n",
    "#annual portfolio return and volatility\n",
    "prf_rets = np.sum(mean_daily_rets*weights*252)\n",
    "prf_std = np.sqrt(weights.T@(cov_matrix@weights))*np.sqrt(252)\n",
    "\n",
    "print('Portfolio expected annualized return: {:.2f} and volatility is {:.2f}'.format(prf_rets,prf_std))"
   ]
  },
  {
   "cell_type": "markdown",
   "metadata": {},
   "source": [
    "#### (3) Optimal Annual Return and Volatility using Monte-Carlo simulation\n",
    "\n",
    "\n"
   ]
  },
  {
   "cell_type": "code",
   "execution_count": 9,
   "metadata": {},
   "outputs": [],
   "source": [
    "num_sim = 10000\n",
    "results = np.zeros((3+len(stocks),num_sim))"
   ]
  },
  {
   "cell_type": "code",
   "execution_count": 10,
   "metadata": {},
   "outputs": [
    {
     "data": {
      "image/png": "[encoded data removed]",
      "text/plain": [
       "<Figure size 432x288 with 1 Axes>"
      ]
     },
     "metadata": {},
     "output_type": "display_data"
    }
   ],
   "source": [
    "for i in range(num_sim):\n",
    "    weights = np.random.random(10)\n",
    "    weights = weights/sum(weights)\n",
    "    \n",
    "    prf_rets = np.sum(mean_daily_rets*weights*252)\n",
    "    prf_std = np.sqrt(weights.T@(cov_matrix@weights))*np.sqrt(252)\n",
    "    \n",
    "    results[0,i] = prf_rets\n",
    "    results[1,i] = prf_std\n",
    "    results[2,i] = results[0,i]/results[1,i]  #did not include Sharpe ratio for the simplicity\n",
    "    \n",
    "    for j in range(len(weights)):\n",
    "        results[j+3,i] = weights[j]\n",
    "resultsDF = pd.DataFrame(results.T, columns=['returns','stdev','sharpe', \n",
    "                                             stocks[0], stocks[1], stocks[2], stocks[3], \n",
    "                                             stocks[4], stocks[5], stocks[6], stocks[7], \n",
    "                                             stocks[8], stocks[9]])\n",
    "\n",
    "#locate position of portfolio with highest Sharpe Ratio\n",
    "max_sharpe = resultsDF.iloc[resultsDF['sharpe'].idxmax()]\n",
    "#locate positon of portfolio with minimum standard deviation\n",
    "min_vol = resultsDF.iloc[resultsDF['stdev'].idxmin()]\n",
    "\n",
    "plt.scatter(resultsDF.stdev, resultsDF.returns, c=resultsDF.sharpe, cmap='RdYlBu', alpha=0.75)\n",
    "plt.xlabel('Volatility')\n",
    "plt.ylabel('Returns')\n",
    "#plot red star to highlight position of portfolio with highest Sharpe Ratio\n",
    "plt.scatter(max_sharpe[1],max_sharpe[0],marker=(5,1,0),color='r',s=100)\n",
    "#plot green star to highlight position of minimum variance portfolio\n",
    "plt.scatter(min_vol[1],min_vol[0],marker=(5,1,0),color='g',s=100)\n",
    "plt.savefig('res.png') "
   ]
  },
  {
   "cell_type": "markdown",
   "metadata": {},
   "source": [
    "As we can see above, the effects of choosing the best weights is critical since the portfolio's returns and volatility depends on optimal weights of each assets. "
   ]
  },
  {
   "cell_type": "code",
   "execution_count": 11,
   "metadata": {},
   "outputs": [
    {
     "name": "stdout",
     "output_type": "stream",
     "text": [
      "         max_sharpe\n",
      "returns    0.416256\n",
      "stdev      0.262507\n",
      "sharpe     1.585692\n",
      "AAL        0.001044\n",
      "AMD        0.199267\n",
      "AAPL       0.035148\n",
      "JNJ        0.140414\n",
      "KO         0.041525\n",
      "MSFT       0.108691\n",
      "NFLX       0.219636\n",
      "TSLA       0.120848\n",
      "WFC        0.008146\n",
      "WMT        0.125280\n"
     ]
    }
   ],
   "source": [
    "print(pd.DataFrame(max_sharpe.rename('max_sharpe')))"
   ]
  },
  {
   "cell_type": "code",
   "execution_count": 12,
   "metadata": {},
   "outputs": [
    {
     "name": "stdout",
     "output_type": "stream",
     "text": [
      "         min_volatility\n",
      "returns        0.175844\n",
      "stdev          0.176044\n",
      "sharpe         0.998866\n",
      "AAL            0.005626\n",
      "AMD            0.068327\n",
      "AAPL           0.053068\n",
      "JNJ            0.186629\n",
      "KO             0.200911\n",
      "MSFT           0.099503\n",
      "NFLX           0.004170\n",
      "TSLA           0.000458\n",
      "WFC            0.092752\n",
      "WMT            0.288557\n"
     ]
    }
   ],
   "source": [
    "print(pd.DataFrame(min_vol.rename('min_volatility')))"
   ]
  }
 ],
 "metadata": {
  "kernelspec": {
   "display_name": "Python 3",
   "language": "python",
   "name": "python3"
  },
  "language_info": {
   "codemirror_mode": {
    "name": "ipython",
    "version": 3
   },
   "file_extension": ".py",
   "mimetype": "text/x-python",
   "name": "python",
   "nbconvert_exporter": "python",
   "pygments_lexer": "ipython3",
   "version": "3.8.3"
  }
 },
 "nbformat": 4,
 "nbformat_minor": 2
}
